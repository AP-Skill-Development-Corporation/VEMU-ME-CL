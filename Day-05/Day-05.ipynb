{
 "cells": [
  {
   "cell_type": "code",
   "execution_count": 2,
   "id": "29a48c2f",
   "metadata": {},
   "outputs": [
    {
     "name": "stdout",
     "output_type": "stream",
     "text": [
      "Enter a number: 100\n"
     ]
    }
   ],
   "source": [
    "n = int(input(\"Enter a number: \"))\n",
    "if n == 45:\n",
    "    print(f\"Entered number {n} is equal to 45\")"
   ]
  },
  {
   "cell_type": "markdown",
   "id": "866deb2d",
   "metadata": {},
   "source": [
    "### Task:\n",
    "    Expression: 2x**3+5y+34z\n",
    "    \n",
    "    Input:\n",
    "        Enter n value: ?\n",
    "        Enter a value: ?\n",
    "        Enter b value: ?\n",
    "        Enter c value: ?\n",
    "    Output:\n",
    "        \n",
    "    Input:\n",
    "        Enter n value: ?\n",
    "        Enter a value: ?\n",
    "        Enter b value: ?\n",
    "        Enter c value: ?\n",
    "    Output:\n",
    "        Entered number is Even\n",
    "        Given expression 2x**3+5y+34z is: ?\n",
    "        "
   ]
  },
  {
   "cell_type": "code",
   "execution_count": 4,
   "id": "0b541d61",
   "metadata": {},
   "outputs": [
    {
     "name": "stdout",
     "output_type": "stream",
     "text": [
      "Enter n value: 3\n",
      "Enter a value: 1\n",
      "Enter b value: 5\n",
      "Enter c value: 4\n"
     ]
    }
   ],
   "source": [
    "n = int(input(\"Enter n value: \"))  \n",
    "a = int(input(\"Enter a value: \"))\n",
    "b = int(input(\"Enter b value: \"))\n",
    "c = int(input(\"Enter c value: \"))\n",
    "if n%2 == 0:\n",
    "    print(\"Entered number is Even\")\n",
    "    print(f\"Given expression 2x**3+5y+34z is: {2*a**3+5*b+34*c}\")"
   ]
  },
  {
   "cell_type": "markdown",
   "id": "03034528",
   "metadata": {},
   "source": [
    "## if-else\n",
    "    Syntax:\n",
    "        if condition:\n",
    "            //statement\n",
    "        else:\n",
    "            //statement"
   ]
  },
  {
   "cell_type": "code",
   "execution_count": 13,
   "id": "84e7ffce",
   "metadata": {},
   "outputs": [
    {
     "name": "stdout",
     "output_type": "stream",
     "text": [
      "enter a value:20\n",
      "entered value 20 is not equal\n"
     ]
    }
   ],
   "source": [
    "a=int(input(\"enter a value: \"))\n",
    "if a==10:\n",
    "    print(\"entered value {} is equal to 10\".format(a))\n",
    "else:\n",
    "    print(\"entered value {} is not equal\".format(a))\n"
   ]
  },
  {
   "cell_type": "markdown",
   "id": "4ba26e79",
   "metadata": {},
   "source": [
    "### Task:\n",
    "    Even => 45x**2+2y\n",
    "    Odd => 3x**3+4y*2+56z\n",
    "    \n",
    "    n => ?"
   ]
  },
  {
   "cell_type": "code",
   "execution_count": 15,
   "id": "fe74d2c3",
   "metadata": {},
   "outputs": [
    {
     "name": "stdout",
     "output_type": "stream",
     "text": [
      "Enter n value: 1\n",
      "Enter a value: 2\n",
      "Enter b value: 4\n",
      "Enter c value: 6\n",
      "Given expression 3x**3+4y**2+56z is: 424\n"
     ]
    }
   ],
   "source": [
    "n = int(input(\"Enter n value: \"))\n",
    "if n%2==0:\n",
    "    p = int(input(\"Enter p value: \"))\n",
    "    q = int(input(\"Enter q value: \"))\n",
    "    print(f\"Given expression 45x**2+2y is: {45*p**2+2*q}\")\n",
    "else:\n",
    "    a = int(input(\"Enter a value: \"))\n",
    "    b = int(input(\"Enter b value: \"))\n",
    "    c = int(input(\"Enter c value: \"))\n",
    "    print(f\"Given expression 3x**3+4y**2+56z is: {3*a**3+4*b**2+56*c}\")"
   ]
  },
  {
   "cell_type": "markdown",
   "id": "417a7fd6",
   "metadata": {},
   "source": [
    "### Nested if:\n",
    "    Syntax:\n",
    "        if condition-1:\n",
    "            if condition-2:\n",
    "                //statement-1\n",
    "            else:\n",
    "                //statement-2\n",
    "        else:\n",
    "            //statement-n\n",
    "        \n",
    "        Note: else optional"
   ]
  },
  {
   "cell_type": "code",
   "execution_count": 18,
   "id": "4a34db25",
   "metadata": {},
   "outputs": [
    {
     "name": "stdout",
     "output_type": "stream",
     "text": [
      "Enter a value: 41\n",
      "Entered number 41 is Odd\n"
     ]
    }
   ],
   "source": [
    "n = int(input(\"Enter a value: \"))\n",
    "if n%2==0:\n",
    "    if n == 40:\n",
    "        print(f\"Entered number {n} is equal to 40\")\n",
    "    else:\n",
    "        print(f\"Entered number {n} is Not equal to 40\")\n",
    "else:\n",
    "    print(f\"Entered number {n} is Odd\") "
   ]
  },
  {
   "cell_type": "code",
   "execution_count": 22,
   "id": "a45a2c57",
   "metadata": {},
   "outputs": [
    {
     "name": "stdout",
     "output_type": "stream",
     "text": [
      "Enter Username: somu\n",
      "Enter Password: TY45\n",
      "Welcome User somu!!!\n"
     ]
    }
   ],
   "source": [
    "username = input(\"Enter Username: \")\n",
    "paswd = input(\"Enter Password: \")\n",
    "if username == \"somu\":\n",
    "    if paswd == \"TY45\":\n",
    "        print(f\"Welcome User {username}!!!\")\n",
    "    else:\n",
    "        print(\"Invalid Username/Password\")\n",
    "else:\n",
    "    print(\"Invalid Username/Password\")"
   ]
  },
  {
   "cell_type": "code",
   "execution_count": 38,
   "id": "587aeb50",
   "metadata": {},
   "outputs": [
    {
     "name": "stdout",
     "output_type": "stream",
     "text": [
      "==================================================\n",
      "------------------ Registration ------------------\n",
      "Enter Username: ramu\n",
      "Enter Password: w34\n",
      "Enter Age: 23\n",
      "ramu Registered Succesfully\n",
      "==================================================\n",
      "---------------------- Login ----------------------\n",
      "Enter Username: rajesh\n",
      "Enter Password: w34\n",
      "Invalid Username/Password\n"
     ]
    }
   ],
   "source": [
    "print(\"==\"*25)\n",
    "print(\"--\"*9+\" Registration \"+\"--\"*9)\n",
    "u = input(\"Enter Username: \")\n",
    "p = input(\"Enter Password: \")\n",
    "a = int(input(\"Enter Age: \"))\n",
    "print(f\"{u} Registered Succesfully\")\n",
    "print(\"==\"*25)\n",
    "print(\"--\"*11+\" Login \"+\"--\"*11)\n",
    "n = input(\"Enter Username: \")\n",
    "m = input(\"Enter Password: \")\n",
    "if n == u:\n",
    "    if m == p:\n",
    "        print(\"Successfully Logged In\")\n",
    "        print(f\"Welcome User {u} Your age is: {a}\")\n",
    "    else:\n",
    "        print(f\"Invalid Username/Password\")\n",
    "else:\n",
    "    print(f\"Invalid Username/Password\")"
   ]
  },
  {
   "cell_type": "code",
   "execution_count": 41,
   "id": "22bc29cf",
   "metadata": {},
   "outputs": [
    {
     "name": "stdout",
     "output_type": "stream",
     "text": [
      "Enter Username: sample123@gmail.com\n",
      "Enter Password: rajesh@\n",
      "Welcome Username sample123@gmail.com!!!!\n"
     ]
    }
   ],
   "source": [
    "n = input(\"Enter Username: \")\n",
    "if n == \"sample123@gmail.com\":\n",
    "    p = input(\"Enter Password: \")\n",
    "    if p == \"rajesh@\":\n",
    "        print(f\"Welcome Username {n}!!!!\")\n",
    "    else:\n",
    "        print(\"Invalid Password\")\n",
    "else:\n",
    "    print(f\"Invalid Username {n}\")"
   ]
  },
  {
   "cell_type": "markdown",
   "id": "cfbdf4bf",
   "metadata": {},
   "source": [
    "### Elif\n",
    "    Syntax:\n",
    "        if condition-1:\n",
    "            //statement-1\n",
    "        elif condition-2:\n",
    "            //statement-2\n",
    "            |          |\n",
    "        elif condition-n:\n",
    "            //statement-n\n",
    "        else:\n",
    "            //statement-(n-2)"
   ]
  },
  {
   "cell_type": "code",
   "execution_count": 51,
   "id": "ff5a3417",
   "metadata": {},
   "outputs": [
    {
     "name": "stdout",
     "output_type": "stream",
     "text": [
      "Enter a number: 23\n",
      "Entered number 23 is Odd\n"
     ]
    }
   ],
   "source": [
    "c = int(input(\"Enter a number: \"))\n",
    "if c%2==0 and c%5==0:\n",
    "    print(f\"Entered number {c} is divisible by 2 and 5\")\n",
    "elif c%2==0 and c<10:\n",
    "    print(f\"Entered number {c} is Less than 10\")\n",
    "elif c%2==0:\n",
    "    print(f\"Entered number {c} is Even\")\n",
    "else:\n",
    "    print(f\"Entered number {c} is Odd\")"
   ]
  },
  {
   "cell_type": "markdown",
   "id": "70800524",
   "metadata": {},
   "source": [
    "## Loops:\n",
    "    - To iterate a single or n number of statements for n number of times\n",
    "    - for => known ranges\n",
    "    - while => known and unknown ranges"
   ]
  },
  {
   "cell_type": "markdown",
   "id": "c1c16949",
   "metadata": {},
   "source": [
    "## For:\n",
    "    Syntax:\n",
    "        for iterationvariablename in range(start,stop,step):\n",
    "            //statements\n",
    "                        or\n",
    "        \n",
    "        for iterationvariablename in iterations:\n",
    "            //statements\n",
    "        \n",
    "        Note: Iterations,Sequence,Data Structure or Datatypes [List,Tuple,Set,String and Dictionary] "
   ]
  },
  {
   "cell_type": "markdown",
   "id": "401976ab",
   "metadata": {},
   "source": [
    "## range:\n",
    "    - range(stop)\n",
    "        => By default it starts exactly with 0\n",
    "        => It increments with +1 value\n",
    "        => It stops with stop-1 value\n",
    "           Ex: range(4)\n",
    "               0 1 2 3 \n",
    "    - range(start,stop)\n",
    "        => By default it starts exactly with start value\n",
    "        => It increments with +1 value\n",
    "        => It stops with stop-1 value\n",
    "           Ex: range(1,4)\n",
    "               1 2 3\n",
    "     - range(start,stop,step)\n",
    "        => By default it starts exactly with start value\n",
    "        => It increments/decrements with  value\n",
    "        => It stops with stop-1 value\n",
    "           Ex: range(1,10,2)\n",
    "               1 3 5 7 9"
   ]
  },
  {
   "cell_type": "code",
   "execution_count": 2,
   "id": "294a6fa2",
   "metadata": {},
   "outputs": [
    {
     "name": "stdout",
     "output_type": "stream",
     "text": [
      "range(stop) -> range object\n",
      "range(start, stop[, step]) -> range object\n",
      "\n",
      "Return an object that produces a sequence of integers from start (inclusive)\n",
      "to stop (exclusive) by step.  range(i, j) produces i, i+1, i+2, ..., j-1.\n",
      "start defaults to 0, and stop is omitted!  range(4) produces 0, 1, 2, 3.\n",
      "These are exactly the valid indices for a list of 4 elements.\n",
      "When step is given, it specifies the increment (or decrement).\n"
     ]
    }
   ],
   "source": [
    "print(range.__doc__)"
   ]
  },
  {
   "cell_type": "code",
   "execution_count": 3,
   "id": "23dbf79d",
   "metadata": {},
   "outputs": [
    {
     "name": "stdout",
     "output_type": "stream",
     "text": [
      "Forward raw_input to frontends\n",
      "\n",
      "        Raises\n",
      "        ------\n",
      "        StdinNotImplementedError if active frontend doesn't support stdin.\n",
      "        \n"
     ]
    }
   ],
   "source": [
    "print(input.__doc__)"
   ]
  },
  {
   "cell_type": "code",
   "execution_count": 4,
   "id": "b4d84531",
   "metadata": {},
   "outputs": [
    {
     "name": "stdout",
     "output_type": "stream",
     "text": [
      "Enter a range: 5\n",
      "0\n",
      "1\n",
      "2\n",
      "3\n",
      "4\n"
     ]
    }
   ],
   "source": [
    "n = int(input(\"Enter a range: \"))\n",
    "for i in range(n):\n",
    "    print(i)"
   ]
  },
  {
   "cell_type": "code",
   "execution_count": 5,
   "id": "8b0edfa7",
   "metadata": {},
   "outputs": [
    {
     "name": "stdout",
     "output_type": "stream",
     "text": [
      "print(value, ..., sep=' ', end='\\n', file=sys.stdout, flush=False)\n",
      "\n",
      "Prints the values to a stream, or to sys.stdout by default.\n",
      "Optional keyword arguments:\n",
      "file:  a file-like object (stream); defaults to the current sys.stdout.\n",
      "sep:   string inserted between values, default a space.\n",
      "end:   string appended after the last value, default a newline.\n",
      "flush: whether to forcibly flush the stream.\n"
     ]
    }
   ],
   "source": [
    "print(print.__doc__)"
   ]
  },
  {
   "cell_type": "code",
   "execution_count": 6,
   "id": "e3975959",
   "metadata": {},
   "outputs": [
    {
     "name": "stdout",
     "output_type": "stream",
     "text": [
      "Help on built-in function print in module builtins:\n",
      "\n",
      "print(...)\n",
      "    print(value, ..., sep=' ', end='\\n', file=sys.stdout, flush=False)\n",
      "    \n",
      "    Prints the values to a stream, or to sys.stdout by default.\n",
      "    Optional keyword arguments:\n",
      "    file:  a file-like object (stream); defaults to the current sys.stdout.\n",
      "    sep:   string inserted between values, default a space.\n",
      "    end:   string appended after the last value, default a newline.\n",
      "    flush: whether to forcibly flush the stream.\n",
      "\n"
     ]
    }
   ],
   "source": [
    "help(print)"
   ]
  },
  {
   "cell_type": "code",
   "execution_count": 12,
   "id": "ca034e6f",
   "metadata": {},
   "outputs": [
    {
     "name": "stdout",
     "output_type": "stream",
     "text": [
      "Enter a range: 5\n",
      "0 1 2 3 4 "
     ]
    }
   ],
   "source": [
    "m = int(input(\"Enter a range: \"))\n",
    "for j in range(m):\n",
    "    print(j,end=\" \")"
   ]
  },
  {
   "cell_type": "code",
   "execution_count": 13,
   "id": "e244eeab",
   "metadata": {},
   "outputs": [
    {
     "name": "stdout",
     "output_type": "stream",
     "text": [
      "Enter a range: 5\n",
      "1 2 3 4 5 "
     ]
    }
   ],
   "source": [
    "k = int(input(\"Enter a range: \"))\n",
    "for r in range(k):\n",
    "    print(r+1,end=\" \")"
   ]
  },
  {
   "cell_type": "code",
   "execution_count": 14,
   "id": "8c45583d",
   "metadata": {},
   "outputs": [
    {
     "name": "stdout",
     "output_type": "stream",
     "text": [
      "Enter a range: 10\n",
      "0 2 4 6 8 "
     ]
    }
   ],
   "source": [
    "m = int(input(\"Enter a range: \"))\n",
    "for i in range(m):\n",
    "    if i%2==0:\n",
    "        print(i,end=\" \")"
   ]
  },
  {
   "cell_type": "code",
   "execution_count": 15,
   "id": "0ea062f6",
   "metadata": {},
   "outputs": [
    {
     "name": "stdout",
     "output_type": "stream",
     "text": [
      "Enter a range: 5\n",
      "0 -1 0 -1 0 "
     ]
    }
   ],
   "source": [
    "p = int(input(\"Enter a range: \"))\n",
    "for y in range(p):\n",
    "    if y%2==0:\n",
    "        print(0,end=\" \")\n",
    "    else:\n",
    "        print(-1,end=\" \")"
   ]
  },
  {
   "cell_type": "code",
   "execution_count": 16,
   "id": "9130b950",
   "metadata": {},
   "outputs": [
    {
     "name": "stdout",
     "output_type": "stream",
     "text": [
      "Enter a range: 25\n",
      "-2 -1 0 -1 0 -1 0 -1 0 -1 -2 -1 0 -1 0 -1 0 -1 0 -1 -2 -1 0 -1 0 "
     ]
    }
   ],
   "source": [
    "w = int(input(\"Enter a range: \"))\n",
    "for i in range(w):\n",
    "    if i%2==0 and i%5==0:\n",
    "        print(-2,end=\" \")\n",
    "    elif i%2==0:\n",
    "        print(0,end=\" \")\n",
    "    else:\n",
    "        print(-1,end=\" \")"
   ]
  },
  {
   "cell_type": "code",
   "execution_count": 17,
   "id": "46e9b041",
   "metadata": {},
   "outputs": [
    {
     "name": "stdout",
     "output_type": "stream",
     "text": [
      "Enter start range: 20\n",
      "Enter end range: 50\n",
      "20 21 22 23 24 25 26 27 28 29 30 31 32 33 34 35 36 37 38 39 40 41 42 43 44 45 46 47 48 49 "
     ]
    }
   ],
   "source": [
    "n = int(input(\"Enter start range: \"))\n",
    "m = int(input(\"Enter end range: \"))\n",
    "for i in range(n,m):\n",
    "    print(i,end=\" \")"
   ]
  },
  {
   "cell_type": "code",
   "execution_count": null,
   "id": "97de24b3",
   "metadata": {},
   "outputs": [],
   "source": []
  }
 ],
 "metadata": {
  "kernelspec": {
   "display_name": "Python 3 (ipykernel)",
   "language": "python",
   "name": "python3"
  },
  "language_info": {
   "codemirror_mode": {
    "name": "ipython",
    "version": 3
   },
   "file_extension": ".py",
   "mimetype": "text/x-python",
   "name": "python",
   "nbconvert_exporter": "python",
   "pygments_lexer": "ipython3",
   "version": "3.9.13"
  }
 },
 "nbformat": 4,
 "nbformat_minor": 5
}
