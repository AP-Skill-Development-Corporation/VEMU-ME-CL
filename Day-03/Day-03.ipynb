{
 "cells": [
  {
   "cell_type": "markdown",
   "id": "6f8c1167",
   "metadata": {},
   "source": [
    "# Markdown format:"
   ]
  },
  {
   "cell_type": "markdown",
   "id": "c335939e",
   "metadata": {},
   "source": [
    "## Styling Text\n",
    "\n",
    "Bold\n",
    "**Example for Bold**\n",
    "__Another Example for bold__\n",
    "\n",
    "Italic\n",
    "*Example for Italic*\n",
    "_Another Example for Italic_\n",
    "\n",
    "Strike through\n",
    "~~Example for strikethrough~~\n",
    "\n",
    "All bold and nested italic\n",
    "**Example for all bold and *Nested* Italic**\n",
    "\n",
    "All bold an italic\n",
    "***Example for All bold and italic***\n",
    "\n"
   ]
  },
  {
   "cell_type": "markdown",
   "id": "231a66da",
   "metadata": {},
   "source": [
    "## Quoting Text\n",
    "> Example for Quoting Text "
   ]
  },
  {
   "cell_type": "markdown",
   "id": "e3d2b239",
   "metadata": {},
   "source": [
    "## Quoting code\n",
    "\n",
    "`` Chapter-1 Chapter-2 ``\n",
    "\n",
    "``Chapter-1\n",
    "Chapter-2``\n",
    "\n",
    "```\n",
    "    Chapter-1\n",
    "    Chapter-2\n",
    "```"
   ]
  },
  {
   "cell_type": "markdown",
   "id": "36c8b3aa",
   "metadata": {},
   "source": [
    "## Links\n",
    "\n",
    "College Site [Click Here](https://vemu.org/)\n",
    "\n",
    "Google [Click Here](https://www.google.com/)"
   ]
  },
  {
   "cell_type": "markdown",
   "id": "624d3a35",
   "metadata": {},
   "source": [
    "## Relative Link\n",
    "\n",
    "First Text file [View](first.text)\n",
    "\n",
    "Second Python File [View](second.py)\n",
    "\n",
    "Image [View](sample.jpeg)\n",
    "\n",
    "![View](data:image/jpeg;base64,/9j/4AAQSkZJRgABAQAAAQABAAD/2wCEAAoHCBUVFBgSFRQZGBgYGBgaGBgYGBkYGBgYGBkZGRgYGBgbIy0kGx0pIBgYJjclKS4wNDU0GiM5PzkyPi0yNDABCwsLEA8QHhISHTApICMyPjAyMDIyMjA1MDswMjA8MD4wMDIyMDIyNDAyMjAyMDAyMjAwMjIyMjAyMjIyMjIyMv/AABEIALUBFgMBIgACEQEDEQH/xAAbAAABBQEBAAAAAAAAAAAAAAAAAQMEBQYCB//EAEMQAAIBAgMEBQoEBAUDBQAAAAECAwARBBIhBRMxUQYVIkFhFDJSU3GBkZKh0UJisfAHFiNDcoLB0uEzosIkRHOTsv/EABkBAQEAAwEAAAAAAAAAAAAAAAABAgMEBf/EACcRAQEAAgIBAwMEAwAAAAAAAAABAhEDEiEEMUFRYXETIoGhBTKR/9oADAMBAAIRAxEAPwD2aiiigKKKKAooooCiiigKKKKAooooCiiigKKKKAooooCiiigKKKKAooooCiiigKKKKAooooCiiigKKKKAooooCikpaAooooCiiigK5vQTTelA7RWGxPSbHNjMThcLhYZBht3cvIyM28jDi2luOYe4Vc9HOkaYrCDFuu5AziQOwyoyMVa7mwtpx041bjZ5GgvReoEO1YHjMyTRtGOMiupQW43cGw7u+iDasDyNCksbSLq0aupdRpqyg3HEU0J16WoB2tBvfJ99HvbX3Wdc9ueW96xe2ukE8uNfC4fHQYWOFFZpHEchkkYm6KHbKAtrHvBHwsxpbp6HRWW2h0qiw4wytKkhmdEaRHQKtwQ0x1/6eZW14X0q2xG3MNGqO+IiRXF0ZpEVXHNCT2vdU1RZUXqr23tmPC4Z8VIboi5uzbtXsFC62JYkAe2slN0q2lDEuMxGBjGG0aRI5GbERxtbtMDZTa4uPjbUhJb7G3oVFYLpV0kczYbC4XFwwCZGkfEPkfJGFVkGVjYZ82l7eFW3SvbUuCw0boqyyPJFF2iVVmkBGbThqL++r1vj7m2nvS1jNn9KZ0xS4THQJAzxvJHIkoeMiMXcNcDLYa3NadsfEEEplQRm1nLqEObhZr2N6lmhLorObM6WQzYmfChlDRNGqtnUiYupY7sX1y2INr61B6G9KBNApxM8YmeWVI1LIjMqOVXKlwTw7qdaNlRUDH7UhgAM00cQY2XeOqZjyGYi9OSY2NQpaRAG8y7AZrDMctzroCdO4VBLoqFgNpwzgtDKkqg2JjdXAPIlSbGpl6BaKKKAooooCiiigKKKKBvNXQamqKBwtSZq4ooOixpMxpKKAoFFFB5PjsPA+1doifaD4MDybKUnWHeXhGYHN5+Ww0HDN41UvO7bKwyAIMOm0DGJHRlhliXMUknVfwFyc3ivOvXMT0fwkjmWTCQO5IJd4kZyQABdiCTYAD3VLlwcboYWjRoyMpjKqVK+jlItatv6nsx08rn2aYsJtSQzYRhLBGxiwbHIjAkBihJy5h462NWr7Jhw+O2QYY1RnXEZygs0lsOrAueLm5Jub8a2uF6PYSNHjjw0KJIAHRY1CuBewcW7Q1OhqS2AiLRuY0LRX3bFQWjBFjkNrrcADTurHvV6vFdlbPknjctPgIplxbSO8xZMWkySaAtfzSdAALe+thBsPCybT2ismHiYLDC4DRqwVnV2dwCNGJ1J762GI6P4SSTfvhoXkuDnaNC9xwJYjUjTXwqYuCjDtIEUO4Cu2VczquihmtdgLmwPOreS32JHkMOEgOz9jSypHY4lUkeRVsYs8zFGY/gvc2OnfVn0zwsEUox0LYCWOPCqnks+Qjdh2ZWw4BIudVGncbX4D0V9i4dohh2gjMI4RFFyCxJ0S1hqSdOdR5OjOCYoWwkLFFCpmjQ5VUkqq3GgBJsPGkz87ppnOm0TYnYueKIj+nBKIraqilHZLW/Ct9LfhrnpR0wwUuzZTHMjvPCyJErAyl5FyhTGO0CCwvp3VvQKqoOj2ESTfphoVkuTnWNQ1zxIIGh8akyhphI+j8Qxey4J4Y3byN1mDIrB2iijVc1x2suoF+FXP8U0JwkKq2QnF4cKwFypJYAgHjbj7q174NC6ylFMiBgrlQWUN5wVrXANhe3GkxeCjlAWRFcKwZQyhgGXgwBGjDuNTtdy/RdM9szogEmOJxGJkxUu7aNTIFVVRtGCougJFwT41itk4eSTEw7EcEx4LEyzOxJ7UCZXwwPO7SWI5Wr181mejGypVxGMxk6hZJ5QqAMGy4eNQseo0BOpI9lWZe+0sZ7o3hcJHtbHo6QoyvhjhwwRWDPES+5B1uSQTl5+NZWXZUPUWIxe6TfriDllt21tikWytxUWJ0HOvYptj4d5VxDwxtKlsshRS624Wa19LmjqfD7psPuI90xzNHkXIzZs1ylrE5gD7RV/Uu9/j+jTCTrhW2tiusd0VGHhOGE5XJuyp3pXPpmzX1GvGqLZ2GWXCbMikUtC+PlVFbN2oO3lU31y8RblXq+0djYfEZd/BHJl83OivlvxtcacB8KebZ8RyXiQ7ogx3Vf6ZAsCmnZNtNKnc0yXRXBRw7Ux8USKibvCsEQZUBKvchRoK3NRY8Iiu0qookcKHcKAzBdFDG1yBra/CpNY27WQt6WktS1AUUUUBRRRQFFFFAxRRXSUBloyUM4GpIA8dK6vVVzloy+NLmF7UtBzl8aLUmcXK3FwASL6gG4BI5Gx+Bpyg499IQa7oqBu9dK1IRRpRHYotSK1dVVJRSmkoFooooCkNLSUBRRRQFFFFAUUE0E0BRWXw3S+NlJZGBBlYDheNMrRuM+UtnWRPNB1La2F65TplEXUCNyriMLbKXzSKX1UNdVCg8QL91xrQau9F6y/83IVV91IoOva3ZLDdGWwIey6FNW07R5Eh/GdIt3JkZBlKIyWdCzM7ohF82VQC6asQDfQmiNDmozVll6YRgPdJGKXzFVULZUaRiMz62RSeOvdXB6UPvFXdWW/bsUcoN5uraOLksV4AkWIsTwg1t6WoWAxYljWUCwYAgXViAeGqEg+41MBoFooooIsr2FdwNdQRypnEjSqlMc0TG4LIeIHEeIv+lBY7XwJmjCDJoytaRN4htfRluLjXnVCOjU6Wy42QhTGVXMRdY0y5dDpc8e49+utXibbgP8AdA8Gup+orrriD1qfGqK3BbImVI7y9tUkVi2dyu9yHsOzEkqU7yePcLUxh+js4ZM2MkZVTKVu92bOGDFgwvaxHsNjfvuhtiD1qfGg7Yg9anxoKdOj0oYHyqSyhbDPITdZC12Yv2gQxFmuPdU7o1h5khyzZs2Zj22LNl4C5LPxte2Y2vUrriD1qfGjrmD1qfGgnGgmoHXEHdIp9lyfgBT0GIEmoBtzOl/dRTe08Es0bRMzqHFiyMUcWIPZcajhT6wjhdvnf713lNGU1Ec7nxb52+9cNGw1Un2MSQfebkHx+hp21F7UHEc19CLNyPH2jmPEU6GqJjMQijtn2W86/MW4VUSbXlLKiISCGLPdboVtkUpxYtc6qLC1ZTC3y1Zc2Mut+fo0d6L1nvJsQ+pLD2tb6Csv0r6KY+aRHglCBUIP9eRGzZr6ZRroeN6zvHJ8xr4/UZZZa62T616TQa8cwuH25hZEDSTbvOoZ8y4lVUkBmKkswABv3VeL/EiFXjinRtVvI0bJIqMSey+QnNoASE9K1jqBh1vx5dHb6t+0pJyrrzY+aP8AcfAfSuhBzZieeYj6CwFNbOxsU0YkhdXjI0KG6+zTgRyqXUZG9yObfO33qJj9mLKqqzyKFdXukjqSUNwCQdVPeKn0GgaMvaA/d6cIvVbj1PEaEcDypqDbSjsydk87EqfhwqItGhU8QD7R4W/1NVPSHHjDRb0RK3aAIOZRaxN7qjnQL6OngNamdcQetX41w+1MO3GRD7df9KCqPSiAA5o5AA0iE5VyloxZlVi1mJIZQBxyk8Beuh0mw5zf05OyqFgUUEK0byWYFtMoRgVOoPdbWpvlODvf+lfX8K94ynu7wAPZQuJwg1G6FxY2VRcAZQDpwtp7NKoNm41ZXdDEUKc8hBU3GhVjqCCCOHK41qzES8bD96/rUCLaGFXRXjXS3ZsNBwGg4U71vB61PjRUxUAFgLDwrtagrtKNtEbOfyg2+PCpycKiOqKKKCOy3qFiMJm7qnV0ooKY7EHfb9+6jqIcx9ftV3RVVS9RDmPrS9RjmPh/xVzSE0RTdRjmPh/xR1GOa/v3VdUUFRFsZQb6fv3VZJHlFqdoIqKbooriR6IV3tVRtTbSRWW92bgO4D0m8KMfjgis54KOHM8APef9aoNiYA4mRpZNVBu3Jm7lHgPtW/iwllyy9o8/1nqcplOLi/2v9T6rrB4JpTncnKe/vb2chV1DCqCygD9fjXYFtBULae044FDOTroqgXZudvuawyyuV1P+Oji4ceKbvv8ANJtHa0UGkjG5BOVQWbKOLEDgPE1XJ0wwpNizr4lDb6XrO7W27HJI0iPImaPdsN0j3W5J1Li3GstiXUE5SSO4lQp+AJ/Wt2HBLP3b215+osv7dae0xuCAykEEXBB0IPAg1R9IuieFxoJkjyyW0lSyuOVzwceDXFPdG5gMJhwfVp+lW4rjnJjcrMb5js1bJb8vEpocbsTEBlOeNzodRFMB+Fh+CS3vHdmFxXrfR3bsWMhWeI6cGU+cjjireOvHvBBp/amzo8RE0EqhkYWI7xyYHuYcQa8f2fPJsbaJikJMTWDm2jwsTklA9Jdb+xx31vkmU+7Xbcb9nuF6K4jcEAg3BFwRwIOoIru9a201NFeq+XZgY/erRjS1BTjYq8x8KXqUcxUvaOPWFVZgTmYIoGUdogkasQB5p76jYnb+HRXYyKxRZGyqQWO7XMygH8QFtPGiOOpF8KOpF8KfbbeHF7zJpmvZr2yZc17cAMy6/mFM4fb8Dk2kUDMUDMQoZw7oVAJvxjbW1iLWJ1tQdTL4fD/ijqVfD4VIXa8BUOJUKMwUNm7JY2sL8zcW53HMVxFtqF3REkVy97ZSCAFDnMeQ7DD2igewuAVOVTq5roGoFooooI0j2FdwvdQfCmMSNKq4seYmIYEoT3cV8RzoOOk/ll08lJF0lV7BTZmyLGwzfiW7sBwNjfuqNJi8cwkXdhBeURuFJYhQu7vZ9L9s5uBCgWBN6u02vAdd6g8GOU/A111pD61PnX71RSHF49QxWJWILdkq1mO67LKc/YXOvm6+dx76ekxeMUMwjzOYISoCndCXPJvj3OOyUOU8bADW9W3WkHro/nX70daQeuj+dfvQU0WNx7My7pEUAEMVZgTaxAGdTa/avy0sDezL7QxqBnaNFUKpYsDlBMRLMpMgCqroOz35uI41f9aQetT51+9B2nB62P51+9BzsfFNLBHK1ruisbAqNRe4Uk2Hhc+01ONQxtKHulT3MD9BXcOJD6re3Mi3wFFMbVwomjaIyOmcefG2SRbEHsuOHCmcRLYc/aSakzPVRjpONRFVt2fNkQAanM3aylQQ4QqtjmNwBl08+9+8anZWDEUSoOIHa8WOpPxrIImfGqvJ1HyKP9tbuujlnXGY7+7zfSZTl5c+Sybl1L+BWF6fOd7GO7Ibe3Mb/otbqqnb2w0xSqGYoyE5WWx0PEEHiNB8K18Wcxylru5sLljZGI2P0dfEJvDII0JIU5c7NbQkC4sL6XvxBqaeg69+JNvCMA+4lzatNgcAMPCkIfNlzdoi18zs/D/NanePP3V5Hq/8rzTmywws1PZt4fR8fWXKeTcKLGixoLKihV1ubKLC551bxHsg+AqJFhAQGubHuqaKnoOLlmVzz+W3lyx1McfgVif4nbFSaBJ2uu4kTeMouwgdlWQgd+W4f/Ka21RNq4QSwSxEXDxunzKR9q9bG6u3PlNzSj6C45JcKsaSX3Fo2CvvLWAKDelVz9grqAOFtSDV9tDAb2J4t5ImdbZ43KuvirdxrzD+C+JO9xEd9GjjcDxVmUn/ALhXrZq5zWWkwy3NmUaxVLk6WuTcmw7z3mn6q8eDxGhGopMPtqPhIcjcz5p8Qe731gzTMZg0lCh83ZbMpV2QhrFbhkIPBiPfWZEOAdTIzsiFXJSR5I85kXO0gDkZ7qC1xfXMfOvWj6zh9cnzrVIdmYGyAyg5LZc0xOgACrqeACi1rW19I3oMThdnmGUk5owoeQLI7sEOR0sFYsB/TTKq8rAa04MNgMxGdMwZSy78ggyMzqrLn81zI7ZTob8OFImAwQz3lVs+7z5pAc+5YsgbmLk+3hw0ps7LwJVU3i2UqVG94ZVVFHHUAKvHkDxoFki2e0UbMVygrIiGUq2ZEUKLFxdgsaixP4T41Y7PwGGL76LVkJS6yMyhlzAhlDFcwzsNRcXNVg2VgjmzSqQxS1nAIWOMRKM173tmuRa+axuONlgHw0QZUlSzOXN5F85uNhwHDu8TxJJC3pRUMbRjOiuHPJdfqNKlrwvRXdFJRUQwy3qBiMHm7qsK6UUFH1FfiB+/dQNgj8v1+1Xt6CwGtUUXUI/L+/dR1APy/X7VebwWvcW511eoKHqEfl+v2o6hHNfr9qvgaTMPhQU8WxQDfT9+6rFY8otT6sDqKGXS1BX4htKpMcdD76uMRVNjBQUOzsQw2mFJ0MkmmnBkYr+or0evMcdGUxMeIBAzMhW+a7vGpDotgQDljJ7Vh2hrrXpkbhgGBuCAQfA10c9mXWz6OH0eFwuWNmvO/wAuqK5ZgBckAczoPjQsikAggg8CCCD7D31zu5xPGrcfiKZTDLfzj+ldY3GJGoZjoXRNLXzOwVfd2r+ym8Ni80kqHKAjIqn0s6K//lXPl6Xiyy7WeWczyk1KmKLCwpa5MgBAJAJ4AmxPsHfQ0gFgSBfhc8fZXRJrxGDquZHAUseABJ9gFdVTdLsWY8JJl8+QCKMcLvMwjQfFr+wGrJupbqPOv4OR/wDqpG7hh7H2s6W//Jr2KvPP4VbHMSSzllYSFFRlzWKpmzGzqGHaYjUDzffXodbOWy5eGHDLMfJiaO9V8uy83dVsxpa1Nqj6iH5fr9qXqIfl+v2q7oqik6jH5f37qOox+X6/arugURSdRj8v1+1HUY/L+/dV3RRUHB7PCcqsBXNKDUR1RSE0UEeR7Cu4muAfCmMSNKrIdobolXBKnvGpU+zvFBI2tsoTyROWsIizaZc2a6FbEqbDsm5Fj3XsTVQ+wcYQynEl1YICHdwCBGVcaLf/AKhL8bMLKQAK0KbSiYXEie9gD8DXfl0XrI/nX71Rnn2FiCLGRSRcKc7hQpjKEbsLl0bXxzG9rC8jCbMxaSB2xGdQrAKSQubtBCy2Oa67ssbghlYi4Yirny6L1kfzr96PLovWR/Ov3oM5h9g4qOMImJvkDBbs65s6uXL2v2t46kEE2C6cqabYOKPYMxIZA0jB3TPKixKnbXtANaQsQPwpytWo8ui9ZH86/ejy6L1kfzr96Clh2ViVkB3oyCVXtncAR2IaPIFs2pLZri5YXuFAOiNR/LovWJ86/ekTEh75dRz5+ygg7Ww5kR4xI8ZbQPGQrrqDdWINuFuHeahYh/yqfaAfjVrKtVuJjqDN7ezyRuFJBTtZVJAZALOhA86ws1jfRW51b9BdriSLcMe3GAB+ZPwn3cPcOdRp0INxoQbg1m8ejYWQYqE5VB4DgjHijD0G7vhxFdPHrLHpff4cHqJlxck5cfM9rG+28yCTC57Zd62a4uukMhBI8DY37uNVSWWTfAEQDGB1IU5Qpw7I7gAaIZG48LknvvUnYW2osdu5AxSSFizRki92RkP+JO3cMPfbhWkkBINjY2Nja9j3G3fWjLG43VduGczm4ymNKSHEOBnUYjBsTluMi7rO3DVcua54Wv3U9isFG/lzmNW7C5DlBNhh1IyH2gcO8CrvB4Pd5mLFmdszubAkhQoAAAAACgAfqdal1iyZN0XJiBOuZ3RN1dSXddyoVYzxzCQObDUE37waJMKWhxu9UPIsagMVzHMuFQ9g/wDyZiLd551rKKDiA9hb8co/QV5T/ErbRxGITAw9oRuLhT587dlVH+EG3tY8q0HTjpkIVbD4ZgZiCGcEERDv9r8h3cTyNV/D3oyyEYuZSHIO6RvOUPxka+odgTbvAJJ46dGGPWdsv4c+efe9Mf5brYezt1CkbOzuigM5JLOx1Ykte4uTa/AWqXtDBGSN4xLIhYWzxsquviptoakRDQU4eFaLd+XRJqGI2sQlydLXPE2HE+NSKqsfcdoGxBuK6w22Izo5yN+bRT7G4VA7tbDO8eSO2bPGdXZAVV1Z1zKCRdVYcO+qiPZ2NDKDKuRBHYB3zMVKFgzspJFt4L/i7N7XNr3y+L1kfzr96PLovWJ86/eqKcYDFmOLPIpkWXOxDuEKE+aQEBewJsDl1C3J1u0uzsdeM75BYJvO1mzkE5iDuxob8LDjx0Bq98ui9ZH86/el8ti9Ynzr96CjbZ+NClRiFJyqFZmsQ11LlgI9b9sA6ZdDY915hFcRoHbMwVQzekwAzHQDib9w9lHlsXrE+dfvR5bF6xPnX70U/RUU45OAcMeSkN+nCpK8KDqikooGnW9V2IwebuqyrpRURQHYN9bD32o/l/wWtDQDVGf/AJf8Fo6g8F+NaCi9Bnv5fHJfjR/L45L8a0NF6Chi2EAb2FW0UOUWqQDSEVBEde6ok8dWDrTDpQUmIiqtng4iwIIIZSLqynirA8RWgljqFJh71Rg8ZsCSNxLhGYFTcIGIkQ/kb+4vh53dZuNaPY3S6dI82LiYgByGVGRyqZcxcEZAe1pcrcggDnZvAq6kZm5HgPaP37uNQMdh96CJUVxyYaj2MpDD3Gtt5e0kyn8/LnnB1tyxuvt8LjCdM8FJ/fCHk4ZPqwt9alt0nwQ/93D/APYh+l6wj9GMOdRvU8FdWHwdb/Wmv5QiP92X5EH1uf0rLrxfWsO/PPeRsJem+DDLGkhkdmVVCqct2IUXcgC2vM++sv0h6RY6dligjdEkXMhRHEjrcgh2cLu7Ea8NCDexpzDdE8MvFHf/ABvp8sYX6k1pcJFlXIFUJ6IAA43/AHe9Y9sMbvGb/LPpyZzWV1+Ga6N9EFjKyTZXcG6oNUQ8bsf7jf8AaPHjW9w0dMQxgcdL9/d8e73/AFqxjSsM+TLK7rbhx44TUOIK7tSKKW9YtiPNFeqyXZWbuq6alqIoP5fHJaP5fHIVf0VRQfy+OS0dQDwq/ooKDqAclpeoRyFX1FBX4PZwQ8BVhRRRRRRRQMyPYXruJrgHwpjE8KrcPtHdnI98vceOU+PhUQ70ggxEiKuHYK2dWLFiuiXcLpqQzqikcCpYGq3c48PI627TP2WZNAqkx5CAbAkKhza9st+GtEmLjYXV1I8GFdb9PTX5hVVnsOm0AQXYEXGYLus2ULFqtxbMWMt+6wFrG1JgYseZImnIITMzhCiqWMcqkG2rLmaPLw0uWFwDWj36emvzCjfp6a/MKIzOFwu0ESxcMwztoytnLjOFzSKSoV2YKOACrxGlMmLH6x5yrSI7sy5Lq6RRKqqSCiF3LEjh2CRxJrWb9PTX5hRvk9JfmFBnoIsarAa5d/e14sphaRy2Ym7CSxB7NxYACxJI0pppsQg1LqP8wrmPEK/mm45jh7qBjaeD3sTx7x484AzxtldbEG6tbThb2E12Y7d5PtNP0VBFZKjvHU9kpp0oKx4KYbD1btHXBgoKnyalXDVabmuhDQQEw9TIoafSOnlSg4SMcq7SIDQFh7/vXdKBQJuvzN8ah7QwG9VV3sqZXR80bZWOVgcpNtVPAirAUjcKqm952svtp2qrHMR2hxBuKdwu1o20Zgjd4Y2+BPGoiwqn21jZY3i3YzBmIZQpZiSVC8NFQXYsdSALgGxqz36emvzCl36emvzCqrJP0lnIssFrKhZwXsS8Ej2jDJ5wkVF7QscwHGnv5gnzN/QOVAxCqWZ3KGS4vky5SFQ6G4LW11Faffp6a/MKN+npr8woiDsvaDSlw0YXIVAIYsrhlDXBKjvJFuOmtr1ZU2Z19JfmFG+X0l+YUU5RTDYtBpnBPIEE/AU8h0vQLRRRQMSCq3G4ZaKKiKp9moTw+lHVcfL6UUVQdVx8vpR1XHy+lFFAnVcfIfAUvVkfIfCiigew2zEB4fSr/DRBVAFFFQO0UUUBSUUUCbsUmWiigUxigRilooAUtFFAUtFFACumFFFBGxEYIqmxGCU8f0oooIw2VHy+lHVUfL6UUVQdVR8vpSjZacvpRRQJ1ZHyHwpeqo+X0oooLPZuBReAq4ApKKDqiiiiv//Z)"
   ]
  },
  {
   "cell_type": "markdown",
   "id": "f1ff6c0c",
   "metadata": {},
   "source": [
    "Image View [Click](sampl.jpeg)\n",
    "\n",
    "![logo](data:image/jpeg;base64,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)"
   ]
  },
  {
   "cell_type": "markdown",
   "id": "e5563c4c",
   "metadata": {},
   "source": [
    "# Operators:\n",
    "    - Arithmetic => +,-,/,*,%,//(floor division),**(exponent) => Expression\n",
    "    - Relational => >,<,!=,==,>=,<=, => Between Operands\n",
    "    - Logical => AND,OR,NOT => Between conditions\n",
    "    - Bitwise => &,|,^,>>,<< => Between conditions and values\n",
    "    - Assignment => +=,-=,*=,/=,%=,**=,//= => In loops,conditional statements and expression\n",
    "    - Membership => in,not in => for syntax, data structures\n",
    "    - Identity => is,is not => comparision of string values based on memory allocation"
   ]
  },
  {
   "cell_type": "code",
   "execution_count": 2,
   "id": "caebc1fd",
   "metadata": {},
   "outputs": [
    {
     "name": "stdout",
     "output_type": "stream",
     "text": [
      "152\n",
      "45\n",
      "8\n",
      "8\n"
     ]
    }
   ],
   "source": [
    "w = 45\n",
    "r = 152\n",
    "print(w and r)\n",
    "print(r and w)\n",
    "print(w & r)\n",
    "print(r & w)"
   ]
  },
  {
   "cell_type": "code",
   "execution_count": 4,
   "id": "05ad2268",
   "metadata": {},
   "outputs": [
    {
     "name": "stdout",
     "output_type": "stream",
     "text": [
      "45\n",
      "152\n",
      "189\n",
      "189\n"
     ]
    }
   ],
   "source": [
    "print(w or r)\n",
    "print(r or w)\n",
    "print(w | r)\n",
    "print(r | w)"
   ]
  },
  {
   "cell_type": "markdown",
   "id": "d4779cde",
   "metadata": {},
   "source": [
    "## Input Formatting:\n",
    "    - By default it stores string data type values\n",
    "    - It reads an input from a user\n",
    "    - It displays an info to a user\n",
    "    Syntax:\n",
    "        variablename = input(\"Some information\")"
   ]
  },
  {
   "cell_type": "code",
   "execution_count": 3,
   "id": "99a6f14b",
   "metadata": {},
   "outputs": [
    {
     "name": "stdout",
     "output_type": "stream",
     "text": [
      "Enter a value: 3\n",
      "3 <class 'str'>\n"
     ]
    }
   ],
   "source": [
    "t = input(\"Enter a value: \")\n",
    "print(t,type(t))"
   ]
  },
  {
   "cell_type": "code",
   "execution_count": null,
   "id": "99882fea",
   "metadata": {},
   "outputs": [],
   "source": [
    "a = 10\n",
    "print(a,type(a))"
   ]
  },
  {
   "cell_type": "code",
   "execution_count": 1,
   "id": "e93d043a",
   "metadata": {},
   "outputs": [
    {
     "ename": "NameError",
     "evalue": "name 'w' is not defined",
     "output_type": "error",
     "traceback": [
      "\u001b[1;31m---------------------------------------------------------------------------\u001b[0m",
      "\u001b[1;31mNameError\u001b[0m                                 Traceback (most recent call last)",
      "Cell \u001b[1;32mIn[1], line 1\u001b[0m\n\u001b[1;32m----> 1\u001b[0m \u001b[43mw\u001b[49m\n",
      "\u001b[1;31mNameError\u001b[0m: name 'w' is not defined"
     ]
    }
   ],
   "source": [
    "w"
   ]
  },
  {
   "cell_type": "code",
   "execution_count": 5,
   "id": "ae2ac625",
   "metadata": {},
   "outputs": [
    {
     "name": "stdout",
     "output_type": "stream",
     "text": [
      "Enter a value: 4\n",
      "Enter b value: 6\n",
      "4 <class 'str'>\n",
      "6 <class 'str'>\n"
     ]
    }
   ],
   "source": [
    "a = input(\"Enter a value: \")\n",
    "b = input(\"Enter b value: \")\n",
    "print(a,type(a))\n",
    "print(b,type(b))"
   ]
  },
  {
   "cell_type": "code",
   "execution_count": 6,
   "id": "749a7ec9",
   "metadata": {},
   "outputs": [
    {
     "name": "stdout",
     "output_type": "stream",
     "text": [
      "Enter n value: 1\n",
      "Enter m value: 2\n",
      "1 <class 'str'> 2 <class 'str'>\n"
     ]
    }
   ],
   "source": [
    "n,m = input(\"Enter n value: \"),input(\"Enter m value: \")\n",
    "print(n,type(n),m,type(m))"
   ]
  },
  {
   "cell_type": "code",
   "execution_count": null,
   "id": "093e6c27",
   "metadata": {},
   "outputs": [],
   "source": []
  }
 ],
 "metadata": {
  "kernelspec": {
   "display_name": "Python 3 (ipykernel)",
   "language": "python",
   "name": "python3"
  },
  "language_info": {
   "codemirror_mode": {
    "name": "ipython",
    "version": 3
   },
   "file_extension": ".py",
   "mimetype": "text/x-python",
   "name": "python",
   "nbconvert_exporter": "python",
   "pygments_lexer": "ipython3",
   "version": "3.9.13"
  }
 },
 "nbformat": 4,
 "nbformat_minor": 5
}
