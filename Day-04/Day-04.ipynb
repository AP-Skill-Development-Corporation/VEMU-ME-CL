{
 "cells": [
  {
   "cell_type": "markdown",
   "id": "4d864c38",
   "metadata": {},
   "source": [
    "## Keyword or Reserved Words"
   ]
  },
  {
   "cell_type": "code",
   "execution_count": 1,
   "id": "1cb9996f",
   "metadata": {},
   "outputs": [],
   "source": [
    "import keyword"
   ]
  },
  {
   "cell_type": "code",
   "execution_count": 2,
   "id": "659a9604",
   "metadata": {},
   "outputs": [
    {
     "name": "stdout",
     "output_type": "stream",
     "text": [
      "['__all__', '__builtins__', '__cached__', '__doc__', '__file__', '__loader__', '__name__', '__package__', '__spec__', 'iskeyword', 'issoftkeyword', 'kwlist', 'softkwlist']\n"
     ]
    }
   ],
   "source": [
    "print(dir(keyword))"
   ]
  },
  {
   "cell_type": "code",
   "execution_count": 4,
   "id": "88d11056",
   "metadata": {},
   "outputs": [
    {
     "name": "stdout",
     "output_type": "stream",
     "text": [
      "['False', 'None', 'True', '__peg_parser__', 'and', 'as', 'assert', 'async', 'await', 'break', 'class', 'continue', 'def', 'del', 'elif', 'else', 'except', 'finally', 'for', 'from', 'global', 'if', 'import', 'in', 'is', 'lambda', 'nonlocal', 'not', 'or', 'pass', 'raise', 'return', 'try', 'while', 'with', 'yield']\n",
      "36\n"
     ]
    }
   ],
   "source": [
    "print(keyword.kwlist)\n",
    "print(len(keyword.kwlist))"
   ]
  },
  {
   "cell_type": "markdown",
   "id": "4cdec945",
   "metadata": {},
   "source": [
    "## Output Formatting:\n",
    "    - , +\n",
    "    - format specifier(%)\n",
    "    - .format\n",
    "    - f string"
   ]
  },
  {
   "cell_type": "code",
   "execution_count": 13,
   "id": "f5b2e55e",
   "metadata": {},
   "outputs": [
    {
     "name": "stdout",
     "output_type": "stream",
     "text": [
      "Enter n value: 0\n",
      "Enter m value: 6\n",
      "Entered n and m number are:  0 6\n",
      "Addition of 0 and 6 is: 06\n",
      "Addition of 0 and 6 is: 06\n",
      "Addition of 0 and 6 is: 06\n",
      "Addition of 0 and 6 is: 06\n",
      "Addition of 6 and 0 is: 06\n",
      "Addition of 0 and 6 is: 06\n"
     ]
    }
   ],
   "source": [
    "n,m = input(\"Enter n value: \"),input(\"Enter m value: \")\n",
    "print(\"Entered n and m number are: \",n,m)\n",
    "print(\"Addition of\",n,\"and\",m,\"is:\",n+m)\n",
    "print(\"Addition of \"+n+\" and \"+m+\" is: \"+n+m)\n",
    "print(\"Addition of %s and %s is: %s\"%(n,m,n+m))\n",
    "print(\"Addition of {} and {} is: {}\".format(n,m,n+m))\n",
    "print(\"Addition of {1} and {0} is: {2}\".format(n,m,n+m))\n",
    "print(f\"Addition of {n} and {m} is: {n+m}\")"
   ]
  },
  {
   "cell_type": "markdown",
   "id": "d4d84685",
   "metadata": {},
   "source": [
    "## Typecasting:\n",
    "    - To change one data type of value to another data type value\n",
    "    - int()\n",
    "    - str()\n",
    "    - float()\n",
    "    - complex()\n",
    "    - All Data structures[list(),tuple(),set() and dict()]"
   ]
  },
  {
   "cell_type": "code",
   "execution_count": 16,
   "id": "87512bf9",
   "metadata": {},
   "outputs": [
    {
     "name": "stdout",
     "output_type": "stream",
     "text": [
      "34\n",
      "34 <class 'str'>\n",
      "34 <class 'int'>\n",
      "34 <class 'str'>\n"
     ]
    }
   ],
   "source": [
    "a = input()\n",
    "print(a,type(a))\n",
    "h = int(a)\n",
    "print(h,type(h))\n",
    "print(a,type(a))"
   ]
  },
  {
   "cell_type": "code",
   "execution_count": 18,
   "id": "4f8de74c",
   "metadata": {},
   "outputs": [
    {
     "name": "stdout",
     "output_type": "stream",
     "text": [
      "2\n",
      "3\n",
      "2 <class 'int'>\n",
      "3.0 <class 'float'>\n"
     ]
    }
   ],
   "source": [
    "k,j = int(input()),float(input())\n",
    "print(k,type(k))\n",
    "print(j,type(j))"
   ]
  },
  {
   "cell_type": "code",
   "execution_count": 27,
   "id": "3dbf7e8b",
   "metadata": {},
   "outputs": [
    {
     "name": "stdout",
     "output_type": "stream",
     "text": [
      "Enter n value: 6\n",
      "Enter m value: 4\n",
      "Addition of 6 and 4 is: 10\n",
      "Addition of 6 and 4 is: 10\n",
      "Addition of 6 and 4 is: 10\n",
      "Addition of 6 and 4 is: 10\n",
      "Addition of 6 and 4 is: 10\n"
     ]
    }
   ],
   "source": [
    "n,m = input(\"Enter n value: \"),input(\"Enter m value: \")\n",
    "print(\"Addition of\",n,\"and\",m,\"is:\",int(n)+int(m))\n",
    "print(\"Addition of \"+n+\" and \"+m+\" is: \"+str(int(n)+int(m)))\n",
    "print(\"Addition of %s and %s is: %d\"%(n,m,int(n)+int(m)))\n",
    "print(\"Addition of {} and {} is: {}\".format(n,m,int(n)+int(m)))\n",
    "print(f\"Addition of {n} and {m} is: {int(n)+int(m)}\")"
   ]
  },
  {
   "cell_type": "code",
   "execution_count": 1,
   "id": "50196e46",
   "metadata": {},
   "outputs": [
    {
     "name": "stdout",
     "output_type": "stream",
     "text": [
      "Enter k value: 2\n",
      "Enter p value: 6\n",
      "Addition of 2 and 6 is: 8\n",
      "Addition of '2' and 6 is: 8\n",
      "Addition of 2.000000 and 6.000000 is: 8\n",
      "Addition of 2.0 and 6.0 is: 8\n"
     ]
    }
   ],
   "source": [
    "k,p = int(input(\"Enter k value: \")),int(input(\"Enter p value: \"))\n",
    "print(\"Addition of {} and {} is: {}\".format(k,p,k+p))\n",
    "print(\"Addition of '{}' and {} is: {}\".format(k,p,k+p))\n",
    "print(\"Addition of %f and %f is: %d\"%(k,p,int(k)+int(p)))\n",
    "print(\"Addition of {} and {} is: {}\".format(float(k),float(p),k+p))"
   ]
  },
  {
   "cell_type": "code",
   "execution_count": 6,
   "id": "4684e579",
   "metadata": {},
   "outputs": [
    {
     "name": "stdout",
     "output_type": "stream",
     "text": [
      "Enter a value:1\n",
      "Enter b value:5\n",
      "Addition of 1 and 5 is: 6\n",
      "Subtraction of 1 and 5 is: -4\n",
      "Multiplication of 1 and 5 is: 5\n",
      "Division of 1 and 5 is:0.2\n",
      "Modulus of 1 and 5 is: 1\n",
      "Floor Division of 1 and 5 is: 0\n",
      "1 power of 5 is: 1\n"
     ]
    }
   ],
   "source": [
    "a,b=int(input(\"Enter a value:\")),int(input(\"Enter b value:\"))\n",
    "print(\"Addition of {} and {} is: {}\".format(a,b,a+b))\n",
    "print(\"Subtraction of {} and {} is: {}\".format(a,b,a-b))\n",
    "print(\"Multiplication of {} and {} is: {}\".format(a,b,a*b))\n",
    "print(\"Division of {} and {} is:{}\".format(a,b,a/b))\n",
    "print(\"Modulus of {} and {} is: {}\".format(a,b,a%b))\n",
    "print(\"Floor Division of {} and {} is: {}\".format(a,b,a//b))\n",
    "print(\"{} power of {} is: {}\".format(a,b,a**b))"
   ]
  },
  {
   "cell_type": "markdown",
   "id": "e4978428",
   "metadata": {},
   "source": [
    "## Task:\n",
    "\n",
    "```\n",
    "    Expression is: 5x**3+2y\n",
    "    Input:\n",
    "        Enter a value: ?\n",
    "        Enter b value: ?\n",
    "    Output:\n",
    "        Entered numbers are: ? and ?\n",
    "        Expression of 5x**3+2y is: ?\n",
    "```"
   ]
  },
  {
   "cell_type": "code",
   "execution_count": 19,
   "id": "0a526283",
   "metadata": {},
   "outputs": [
    {
     "name": "stdout",
     "output_type": "stream",
     "text": [
      "Enter a value: 6\n",
      "Enter b value: 5\n",
      "Entered numbers are: 6 and 5\n",
      "Expression of 5x**3+2y is: 1090\n"
     ]
    }
   ],
   "source": [
    "x,y=int(input(\"Enter a value: \")),int(input(\"Enter b value: \"))\n",
    "print(\"Entered numbers are: {} and {}\".format(x,y))\n",
    "print(\"Expression of 5x**3+2y is: {}\".format(5*x**3+2*y))"
   ]
  },
  {
   "cell_type": "markdown",
   "id": "22e89940",
   "metadata": {},
   "source": [
    "## Conditional Statements:\n",
    "    - To check whether a given condition is either True or False\n",
    "    - if => single case\n",
    "    - if-else => two cases\n",
    "    - nested if => 2 or more cases\n",
    "    - elif => 2 or more n number of cases"
   ]
  },
  {
   "cell_type": "markdown",
   "id": "a5c6de3e",
   "metadata": {},
   "source": [
    "## If:\n",
    "    Syntax:\n",
    "        if condition:\n",
    "            //statements\n",
    "        () => optional"
   ]
  },
  {
   "cell_type": "code",
   "execution_count": null,
   "id": "190ba5d0",
   "metadata": {},
   "outputs": [],
   "source": []
  }
 ],
 "metadata": {
  "kernelspec": {
   "display_name": "Python 3 (ipykernel)",
   "language": "python",
   "name": "python3"
  },
  "language_info": {
   "codemirror_mode": {
    "name": "ipython",
    "version": 3
   },
   "file_extension": ".py",
   "mimetype": "text/x-python",
   "name": "python",
   "nbconvert_exporter": "python",
   "pygments_lexer": "ipython3",
   "version": "3.9.13"
  }
 },
 "nbformat": 4,
 "nbformat_minor": 5
}
