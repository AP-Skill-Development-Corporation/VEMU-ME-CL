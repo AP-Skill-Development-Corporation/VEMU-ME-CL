{
 "cells": [
  {
   "cell_type": "markdown",
   "id": "09fca3d7",
   "metadata": {},
   "source": [
    "# Python Basics"
   ]
  },
  {
   "cell_type": "markdown",
   "id": "d446d571",
   "metadata": {},
   "source": [
    "## Variables:\n",
    "    - To store a value\n",
    "    - To change a value\n",
    "    Syntax:\n",
    "        variablename = value"
   ]
  },
  {
   "cell_type": "code",
   "execution_count": 1,
   "id": "86046fcf",
   "metadata": {},
   "outputs": [
    {
     "data": {
      "text/plain": [
       "45"
      ]
     },
     "execution_count": 1,
     "metadata": {},
     "output_type": "execute_result"
    }
   ],
   "source": [
    "w = 45\n",
    "w"
   ]
  },
  {
   "cell_type": "code",
   "execution_count": 2,
   "id": "1a15019d",
   "metadata": {},
   "outputs": [
    {
     "data": {
      "text/plain": [
       "23.0144"
      ]
     },
     "execution_count": 2,
     "metadata": {},
     "output_type": "execute_result"
    }
   ],
   "source": [
    "p = 23.0144\n",
    "p"
   ]
  },
  {
   "cell_type": "code",
   "execution_count": 4,
   "id": "692c20e8",
   "metadata": {},
   "outputs": [
    {
     "data": {
      "text/plain": [
       "23.0144"
      ]
     },
     "execution_count": 4,
     "metadata": {},
     "output_type": "execute_result"
    }
   ],
   "source": [
    "w\n",
    "p"
   ]
  },
  {
   "cell_type": "code",
   "execution_count": 5,
   "id": "99efdf35",
   "metadata": {},
   "outputs": [
    {
     "data": {
      "text/plain": [
       "45"
      ]
     },
     "execution_count": 5,
     "metadata": {},
     "output_type": "execute_result"
    }
   ],
   "source": [
    "p\n",
    "w"
   ]
  },
  {
   "cell_type": "code",
   "execution_count": 6,
   "id": "58e47c8e",
   "metadata": {},
   "outputs": [
    {
     "data": {
      "text/plain": [
       "(45, 23.0144)"
      ]
     },
     "execution_count": 6,
     "metadata": {},
     "output_type": "execute_result"
    }
   ],
   "source": [
    "w,p"
   ]
  },
  {
   "cell_type": "markdown",
   "id": "4758d5a3",
   "metadata": {},
   "source": [
    "## Variable Assignments:\n",
    "    - single variable = single value\n",
    "    - n number of variables = n number of values\n",
    "    - n number of variables = single value\n",
    "    - single variable = n number of values"
   ]
  },
  {
   "cell_type": "code",
   "execution_count": 7,
   "id": "69bd0b63",
   "metadata": {},
   "outputs": [
    {
     "data": {
      "text/plain": [
       "45"
      ]
     },
     "execution_count": 7,
     "metadata": {},
     "output_type": "execute_result"
    }
   ],
   "source": [
    "# single variable = single value\n",
    "z = 45\n",
    "z"
   ]
  },
  {
   "cell_type": "code",
   "execution_count": 8,
   "id": "d5145812",
   "metadata": {},
   "outputs": [
    {
     "data": {
      "text/plain": [
       "(12, 45.02115, 'Prasad')"
      ]
     },
     "execution_count": 8,
     "metadata": {},
     "output_type": "execute_result"
    }
   ],
   "source": [
    "# n number of variables = n number of values\n",
    "a,b,c = 12,45.02115,'Prasad'\n",
    "a,b,c"
   ]
  },
  {
   "cell_type": "code",
   "execution_count": 9,
   "id": "dc26091b",
   "metadata": {},
   "outputs": [
    {
     "ename": "ValueError",
     "evalue": "not enough values to unpack (expected 3, got 2)",
     "output_type": "error",
     "traceback": [
      "\u001b[1;31m---------------------------------------------------------------------------\u001b[0m",
      "\u001b[1;31mValueError\u001b[0m                                Traceback (most recent call last)",
      "Cell \u001b[1;32mIn[9], line 1\u001b[0m\n\u001b[1;32m----> 1\u001b[0m z,x,y \u001b[38;5;241m=\u001b[39m \u001b[38;5;241m0.12\u001b[39m,\u001b[38;5;241m45\u001b[39m\n\u001b[0;32m      2\u001b[0m z,x,y\n",
      "\u001b[1;31mValueError\u001b[0m: not enough values to unpack (expected 3, got 2)"
     ]
    }
   ],
   "source": [
    "z,x,y = 0.12,45\n",
    "z,x,y"
   ]
  },
  {
   "cell_type": "code",
   "execution_count": 10,
   "id": "f354ba61",
   "metadata": {},
   "outputs": [
    {
     "ename": "ValueError",
     "evalue": "too many values to unpack (expected 2)",
     "output_type": "error",
     "traceback": [
      "\u001b[1;31m---------------------------------------------------------------------------\u001b[0m",
      "\u001b[1;31mValueError\u001b[0m                                Traceback (most recent call last)",
      "Cell \u001b[1;32mIn[10], line 1\u001b[0m\n\u001b[1;32m----> 1\u001b[0m w,b \u001b[38;5;241m=\u001b[39m \u001b[38;5;241m12\u001b[39m,\u001b[38;5;241m0.56\u001b[39m,\u001b[38;5;124m'\u001b[39m\u001b[38;5;124mKalyan\u001b[39m\u001b[38;5;124m'\u001b[39m\n\u001b[0;32m      2\u001b[0m w,b\n",
      "\u001b[1;31mValueError\u001b[0m: too many values to unpack (expected 2)"
     ]
    }
   ],
   "source": [
    "w,b = 12,0.56,'Kalyan'\n",
    "w,b"
   ]
  },
  {
   "cell_type": "code",
   "execution_count": 11,
   "id": "0ed027cf",
   "metadata": {},
   "outputs": [
    {
     "data": {
      "text/plain": [
       "(500, 500, 500)"
      ]
     },
     "execution_count": 11,
     "metadata": {},
     "output_type": "execute_result"
    }
   ],
   "source": [
    "# n number of varaibles = single value\n",
    "j = k = p = 500\n",
    "j,k,p"
   ]
  },
  {
   "cell_type": "code",
   "execution_count": 12,
   "id": "7d8ec858",
   "metadata": {},
   "outputs": [
    {
     "data": {
      "text/plain": [
       "(45, 78.0212, 'Kumar')"
      ]
     },
     "execution_count": 12,
     "metadata": {},
     "output_type": "execute_result"
    }
   ],
   "source": [
    "# single variable = n number of values\n",
    "b = 45,78.0212,'Kumar'\n",
    "b"
   ]
  },
  {
   "cell_type": "code",
   "execution_count": 13,
   "id": "5b22b5ad",
   "metadata": {},
   "outputs": [
    {
     "data": {
      "text/plain": [
       "12"
      ]
     },
     "execution_count": 13,
     "metadata": {},
     "output_type": "execute_result"
    }
   ],
   "source": [
    "q = 450\n",
    "q = 12\n",
    "q"
   ]
  },
  {
   "cell_type": "code",
   "execution_count": 14,
   "id": "a249b7cd",
   "metadata": {},
   "outputs": [
    {
     "data": {
      "text/plain": [
       "17"
      ]
     },
     "execution_count": 14,
     "metadata": {},
     "output_type": "execute_result"
    }
   ],
   "source": [
    "q = q+5\n",
    "q"
   ]
  },
  {
   "cell_type": "markdown",
   "id": "36df287b",
   "metadata": {},
   "source": [
    "## Data Types:\n",
    "    - int => only numbers\n",
    "    - float => numbers and decimal values \n",
    "    - string => enclosed with ' or \"\n",
    "    - boolean => True or False\n",
    "    - complex => real and imaginary\n",
    "    - none => None\n",
    "    - All Data Structures [List,Tuple,Set and Dictionary]"
   ]
  },
  {
   "cell_type": "code",
   "execution_count": 15,
   "id": "72624666",
   "metadata": {},
   "outputs": [
    {
     "data": {
      "text/plain": [
       "(14, 25.0021, 'Jagadeesh', False, (4+32j), None)"
      ]
     },
     "execution_count": 15,
     "metadata": {},
     "output_type": "execute_result"
    }
   ],
   "source": [
    "a,b,c,d,e,f = 14,25.0021,'Jagadeesh',False,4+32j,None\n",
    "a,b,c,d,e,f"
   ]
  },
  {
   "cell_type": "markdown",
   "id": "b68f7306",
   "metadata": {},
   "source": [
    "## Type:\n",
    "    - To know the data type of a variable\n",
    "    Syntax:\n",
    "        type(variablename)"
   ]
  },
  {
   "cell_type": "code",
   "execution_count": 16,
   "id": "f63b4dd4",
   "metadata": {},
   "outputs": [
    {
     "data": {
      "text/plain": [
       "int"
      ]
     },
     "execution_count": 16,
     "metadata": {},
     "output_type": "execute_result"
    }
   ],
   "source": [
    "w = 48\n",
    "type(w)"
   ]
  },
  {
   "cell_type": "code",
   "execution_count": 17,
   "id": "93e0b3c1",
   "metadata": {},
   "outputs": [
    {
     "data": {
      "text/plain": [
       "'12'"
      ]
     },
     "execution_count": 17,
     "metadata": {},
     "output_type": "execute_result"
    }
   ],
   "source": [
    "y = '12'\n",
    "y"
   ]
  },
  {
   "cell_type": "code",
   "execution_count": 18,
   "id": "1cda1b36",
   "metadata": {},
   "outputs": [
    {
     "data": {
      "text/plain": [
       "str"
      ]
     },
     "execution_count": 18,
     "metadata": {},
     "output_type": "execute_result"
    }
   ],
   "source": [
    "type(y)"
   ]
  },
  {
   "cell_type": "code",
   "execution_count": 19,
   "id": "4d1fa133",
   "metadata": {},
   "outputs": [
    {
     "name": "stdout",
     "output_type": "stream",
     "text": [
      "78\n"
     ]
    },
    {
     "data": {
      "text/plain": [
       "'78'"
      ]
     },
     "execution_count": 19,
     "metadata": {},
     "output_type": "execute_result"
    }
   ],
   "source": [
    "z = '78'\n",
    "print(z)\n",
    "z"
   ]
  },
  {
   "cell_type": "code",
   "execution_count": 20,
   "id": "e5033f82",
   "metadata": {},
   "outputs": [
    {
     "name": "stdout",
     "output_type": "stream",
     "text": [
      "65 <class 'str'>\n"
     ]
    },
    {
     "data": {
      "text/plain": [
       "('65', str)"
      ]
     },
     "execution_count": 20,
     "metadata": {},
     "output_type": "execute_result"
    }
   ],
   "source": [
    "a = '65'\n",
    "print(a,type(a))\n",
    "a,type(a)"
   ]
  },
  {
   "cell_type": "code",
   "execution_count": null,
   "id": "92e62b2d",
   "metadata": {},
   "outputs": [],
   "source": []
  }
 ],
 "metadata": {
  "kernelspec": {
   "display_name": "Python 3 (ipykernel)",
   "language": "python",
   "name": "python3"
  },
  "language_info": {
   "codemirror_mode": {
    "name": "ipython",
    "version": 3
   },
   "file_extension": ".py",
   "mimetype": "text/x-python",
   "name": "python",
   "nbconvert_exporter": "python",
   "pygments_lexer": "ipython3",
   "version": "3.9.13"
  }
 },
 "nbformat": 4,
 "nbformat_minor": 5
}
